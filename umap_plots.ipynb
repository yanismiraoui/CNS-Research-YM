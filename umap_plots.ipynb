{
 "cells": [
  {
   "cell_type": "code",
   "execution_count": null,
   "metadata": {},
   "outputs": [],
   "source": [
    "%load_ext autoreload\n",
    "%autoreload 2"
   ]
  },
  {
   "cell_type": "code",
   "execution_count": null,
   "metadata": {},
   "outputs": [],
   "source": [
    "import os\n",
    "import pickle\n",
    "import numpy as np\n",
    "import pandas as pd\n",
    "import umap\n",
    "import matplotlib.pyplot as plt\n",
    "import pandas as pd\n",
    "import numpy as np\n",
    "import seaborn as sns\n",
    "import matplotlib.pyplot as plt\n",
    "\n",
    "plot_method = \"Ours\"\n",
    "\n",
    "path = \"TODO\"+plot_method\n",
    "names = {\"ASD\": \"latent_features_treatment_shaped_gender.pkl\", \n",
    "         \"Scanner\": \"latent_features_scanner_shaped_gender.pkl\", \n",
    "         \"ID\": \"latent_features_id_shaped_gender.pkl\"}\n",
    "\n",
    "full_paths = {key: os.path.join(path, value) for key, value in names.items()}"
   ]
  },
  {
   "cell_type": "code",
   "execution_count": null,
   "metadata": {},
   "outputs": [],
   "source": [
    "datasets = []\n",
    "sexes = []\n",
    "x_1 = []\n",
    "x_2 = []\n",
    "\n",
    "for name, full_path in full_paths.items():\n",
    "    print(name)\n",
    "    # Load the pickle files\n",
    "    with open(full_path, \"rb\") as file:\n",
    "        data = pickle.load(file)\n",
    "        print(data[0])\n",
    "\n",
    "        # Print the loaded data shape\n",
    "        print(len(data))\n",
    "        datasets += [name] * len(data)\n",
    "        sexes += [x[1] for x in data]\n",
    "        data = [x[0] for x in data]\n",
    "        reducer = umap.UMAP(n_components=2, random_state=42)\n",
    "        embedding = reducer.fit_transform(data)\n",
    "        X_1 = embedding[:, 0]\n",
    "        X_2 = embedding[:, 1]\n",
    "        x_1, x_2 = np.concatenate([x_1, X_1]), np.concatenate([x_2, X_2])"
   ]
  },
  {
   "cell_type": "code",
   "execution_count": null,
   "metadata": {},
   "outputs": [],
   "source": [
    "data = {'Data': datasets, 'X1': x_1, 'X2': x_2, 'Sex': sexes}\n",
    "df = pd.DataFrame(data)\n",
    "print(df)"
   ]
  },
  {
   "cell_type": "code",
   "execution_count": null,
   "metadata": {},
   "outputs": [],
   "source": [
    "# Set the aesthetic style of the plots\n",
    "sns.set_style(\"whitegrid\")\n",
    "\n",
    "# Manually define a color for each domain\n",
    "cp = {\n",
    "    'dark_blue': (0.404, 0.384, 0.69, 1),\n",
    "    'coral': (0.969, 0.608, 0.522, 1),\n",
    "    'red': 'red'\n",
    "}\n",
    "\n",
    "manual_palette = {\n",
    "    'ASD': cp['coral'],\n",
    "    'ID': cp['dark_blue'],\n",
    "    'Scanner': cp['red']\n",
    "}\n",
    "\n",
    "#manual_palette = {\n",
    "#    1: cp['coral'],\n",
    "#    0: cp['dark_blue']\n",
    "#}\n",
    "\n",
    "# Manually define markers for each class\n",
    "class_markers = {\n",
    "    0: 'o', \n",
    "    1: 'o'  \n",
    "}\n",
    "\n",
    "# Initialize the matplotlib figure\n",
    "plt.figure(figsize=(6, 4.5))\n",
    "\n",
    "sns.scatterplot(data=df, x='X1', y='X2', hue='Data', palette=manual_palette, s=20, marker='o')\n",
    "  \n",
    "# Customize the plot\n",
    "plt.title(plot_method)\n",
    "plt.xlabel('X1')\n",
    "plt.ylabel('X2')\n",
    "\n",
    "# Place the legend outside the plot\n",
    "plt.legend(bbox_to_anchor=(1.05, 1), loc='upper left', title='Domain - Class')\n",
    "\n",
    "# Show the plot\n",
    "plt.tight_layout()\n",
    "plt.show()\n",
    "\n",
    "#file_title = f\"umap_{plot_method}.svg\"\n",
    "#results_path = r\"TODO\"+file_title\n",
    "#plt.savefig(results_path)"
   ]
  }
 ],
 "metadata": {
  "language_info": {
   "name": "python"
  }
 },
 "nbformat": 4,
 "nbformat_minor": 2
}
