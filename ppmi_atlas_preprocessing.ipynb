{
 "cells": [
  {
   "cell_type": "code",
   "execution_count": 4,
   "metadata": {},
   "outputs": [],
   "source": [
    "import numpy as np\n",
    "import pandas as pd\n",
    "import nilearn"
   ]
  },
  {
   "cell_type": "code",
   "execution_count": 6,
   "metadata": {},
   "outputs": [
    {
     "name": "stdout",
     "output_type": "stream",
     "text": [
      "Atlas ROIs are located in nifti image (4D) at: \n",
      "<class 'nibabel.nifti1.Nifti1Image'>\n",
      "data shape (91, 109, 91)\n",
      "affine:\n",
      "[[   2.    0.    0.  -90.]\n",
      " [   0.    2.    0. -126.]\n",
      " [   0.    0.    2.  -72.]\n",
      " [   0.    0.    0.    1.]]\n",
      "metadata:\n",
      "<class 'nibabel.nifti1.Nifti1Header'> object, endian='<'\n",
      "sizeof_hdr      : 348\n",
      "data_type       : b''\n",
      "db_name         : b''\n",
      "extents         : 0\n",
      "session_error   : 0\n",
      "regular         : b''\n",
      "dim_info        : 0\n",
      "dim             : [  3  91 109  91   1   1   1   1]\n",
      "intent_p1       : 0.0\n",
      "intent_p2       : 0.0\n",
      "intent_p3       : 0.0\n",
      "intent_code     : none\n",
      "datatype        : uint8\n",
      "bitpix          : 8\n",
      "slice_start     : 0\n",
      "pixdim          : [1. 2. 2. 2. 1. 1. 1. 1.]\n",
      "vox_offset      : 0.0\n",
      "scl_slope       : nan\n",
      "scl_inter       : nan\n",
      "slice_end       : 0\n",
      "slice_code      : unknown\n",
      "xyzt_units      : 0\n",
      "cal_max         : 0.0\n",
      "cal_min         : 0.0\n",
      "slice_duration  : 0.0\n",
      "toffset         : 0.0\n",
      "glmax           : 0\n",
      "glmin           : 0\n",
      "descrip         : b''\n",
      "aux_file        : b''\n",
      "qform_code      : unknown\n",
      "sform_code      : aligned\n",
      "quatern_b       : 0.0\n",
      "quatern_c       : 0.0\n",
      "quatern_d       : 0.0\n",
      "qoffset_x       : -90.0\n",
      "qoffset_y       : -126.0\n",
      "qoffset_z       : -72.0\n",
      "srow_x          : [  2.   0.   0. -90.]\n",
      "srow_y          : [   0.    2.    0. -126.]\n",
      "srow_z          : [  0.   0.   2. -72.]\n",
      "intent_name     : b''\n",
      "magic           : b'n+1'\n",
      "\n"
     ]
    }
   ],
   "source": [
    "from nilearn import datasets\n",
    "\n",
    "dataset = datasets.fetch_atlas_harvard_oxford(\"cort-maxprob-thr25-2mm\")\n",
    "atlas_filename = dataset.maps\n",
    "labels = dataset.labels\n",
    "print(f\"Atlas ROIs are located in nifti image (4D) at: {atlas_filename}\")"
   ]
  },
  {
   "cell_type": "code",
   "execution_count": 50,
   "metadata": {},
   "outputs": [],
   "source": [
    "# One subject of brain development fmri data\n",
    "data = datasets.fetch_development_fmri(n_subjects=1, reduce_confounds=True)\n",
    "fmri_filenames = data.func[0]\n",
    "reduced_confounds = data.confounds[0]  # This is a preselected set of confounds"
   ]
  },
  {
   "cell_type": "code",
   "execution_count": 11,
   "metadata": {},
   "outputs": [],
   "source": [
    "# load .dcm files for nilearn\n",
    "import pydicom as dicom\n",
    "\n",
    "image_path = 'RAW_PPMI/3102/ep2d_RESTING_STATE/2013-02-06_10_38_32.0/I378209/PPMI_3102_MR_ep2d_RESTING_STATE_br_raw_20130626124735840_52_S193424_I378209.dcm'\n",
    "directory_series = 'RAW_PPMI/3102/ep2d_RESTING_STATE/2013-02-06_10_38_32.0/I378209/'\n",
    "ds = dicom.dcmread(image_path)\n"
   ]
  },
  {
   "cell_type": "code",
   "execution_count": 15,
   "metadata": {},
   "outputs": [],
   "source": [
    "# convert to nifti (3D/4D Niimg-like object)\n",
    "import dicom2nifti\n",
    "\n",
    "dicom2nifti.convert_directory(directory_series, 'nifti_series', compression=True, reorient=True)"
   ]
  },
  {
   "cell_type": "code",
   "execution_count": 23,
   "metadata": {},
   "outputs": [],
   "source": [
    "from nilearn.maskers import NiftiLabelsMasker\n",
    "\n",
    "masker = NiftiLabelsMasker(\n",
    "    labels_img=atlas_filename,\n",
    "    standardize=\"zscore_sample\",\n",
    "    standardize_confounds=\"zscore_sample\",\n",
    "    memory=\"nilearn_cache\",\n",
    "    verbose=5,\n",
    ")"
   ]
  },
  {
   "cell_type": "code",
   "execution_count": 37,
   "metadata": {},
   "outputs": [],
   "source": [
    "# get path to files in 'nifti_series'\n",
    "import os\n",
    "\n",
    "path = 'nifti_series'\n",
    "files = os.listdir(path)\n",
    "files.sort()\n",
    "files = [os.path.join(path, file) for file in files]\n",
    "# no DS_Store\n",
    "files = files[1:]"
   ]
  },
  {
   "cell_type": "code",
   "execution_count": 40,
   "metadata": {},
   "outputs": [
    {
     "name": "stdout",
     "output_type": "stream",
     "text": [
      "\n",
      "<class 'nibabel.nifti1.Nifti1Image'>\n",
      "data shape (68, 66, 40, 210)\n",
      "affine:\n",
      "[[ -3.29411769   0.          -0.         107.27710724]\n",
      " [ -0.           3.29411769  -0.         -79.77320862]\n",
      " [  0.          -0.           3.29999995 -79.86807251]\n",
      " [  0.           0.           0.           1.        ]]\n",
      "metadata:\n",
      "<class 'nibabel.nifti1.Nifti1Header'> object, endian='<'\n",
      "sizeof_hdr      : 348\n",
      "data_type       : b''\n",
      "db_name         : b''\n",
      "extents         : 0\n",
      "session_error   : 0\n",
      "regular         : b''\n",
      "dim_info        : 0\n",
      "dim             : [  4  68  66  40 210   1   1   1]\n",
      "intent_p1       : 0.0\n",
      "intent_p2       : 0.0\n",
      "intent_p3       : 0.0\n",
      "intent_code     : none\n",
      "datatype        : uint16\n",
      "bitpix          : 16\n",
      "slice_start     : 0\n",
      "pixdim          : [-1.         3.2941177  3.2941177  3.3        1.         1.\n",
      "  1.         1.       ]\n",
      "vox_offset      : 0.0\n",
      "scl_slope       : nan\n",
      "scl_inter       : nan\n",
      "slice_end       : 0\n",
      "slice_code      : unknown\n",
      "xyzt_units      : 2\n",
      "cal_max         : 0.0\n",
      "cal_min         : 0.0\n",
      "slice_duration  : 0.0\n",
      "toffset         : 0.0\n",
      "glmax           : 0\n",
      "glmin           : 0\n",
      "descrip         : b''\n",
      "aux_file        : b''\n",
      "qform_code      : unknown\n",
      "sform_code      : aligned\n",
      "quatern_b       : 0.0\n",
      "quatern_c       : 1.0\n",
      "quatern_d       : 0.0\n",
      "qoffset_x       : 107.27711\n",
      "qoffset_y       : -79.77321\n",
      "qoffset_z       : -79.86807\n",
      "srow_x          : [ -3.2941177   0.         -0.        107.27711  ]\n",
      "srow_y          : [ -0.          3.2941177  -0.        -79.77321  ]\n",
      "srow_z          : [  0.       -0.        3.3     -79.86807]\n",
      "intent_name     : b''\n",
      "magic           : b'n+1'\n",
      "\n"
     ]
    }
   ],
   "source": [
    "from nilearn import image\n",
    "img  = nilearn.image.load_img(files[0])\n",
    "print(img)"
   ]
  },
  {
   "cell_type": "code",
   "execution_count": 42,
   "metadata": {},
   "outputs": [
    {
     "name": "stdout",
     "output_type": "stream",
     "text": [
      "[NiftiLabelsMasker.wrapped] loading data from Nifti1Image(\n",
      "shape=(91, 109, 91),\n",
      "affine=array([[   2.,    0.,    0.,  -90.],\n",
      "       [   0.,    2.,    0., -126.],\n",
      "       [   0.,    0.,    2.,  -72.],\n",
      "       [   0.,    0.,    0.,    1.]])\n",
      ")\n",
      "________________________________________________________________________________\n",
      "[Memory] Calling nilearn.maskers.base_masker._filter_and_extract...\n",
      "_filter_and_extract(<nibabel.nifti1.Nifti1Image object at 0x158a93a10>, <nilearn.maskers.nifti_labels_masker._ExtractionFunctor object at 0x158aac6d0>, { 'background_label': 0,\n",
      "  'clean_kwargs': {},\n",
      "  'detrend': False,\n",
      "  'dtype': None,\n",
      "  'high_pass': None,\n",
      "  'high_variance_confounds': False,\n",
      "  'keep_masked_labels': True,\n",
      "  'labels': None,\n",
      "  'labels_img': <nibabel.nifti1.Nifti1Image object at 0x158514610>,\n",
      "  'low_pass': None,\n",
      "  'mask_img': None,\n",
      "  'reports': True,\n",
      "  'smoothing_fwhm': None,\n",
      "  'standardize': 'zscore_sample',\n",
      "  'standardize_confounds': 'zscore_sample',\n",
      "  'strategy': 'mean',\n",
      "  't_r': None,\n",
      "  'target_affine': None,\n",
      "  'target_shape': None}, confounds=None, sample_mask=None, dtype=None, memory=Memory(location=nilearn_cache/joblib), memory_level=1, verbose=5)\n",
      "[NiftiLabelsMasker.transform_single_imgs] Loading data from Nifti1Image('nifti_series/10_ep2d_resting_state.nii')\n",
      "[NiftiLabelsMasker.transform_single_imgs] Extracting region signals\n",
      "[NiftiLabelsMasker.transform_single_imgs] Cleaning extracted signals\n",
      "_______________________________________________filter_and_extract - 0.7s, 0.0min\n"
     ]
    }
   ],
   "source": [
    "time_series = masker.fit_transform(img)"
   ]
  },
  {
   "cell_type": "code",
   "execution_count": 45,
   "metadata": {},
   "outputs": [
    {
     "data": {
      "text/plain": [
       "<matplotlib.image.AxesImage at 0x15f965e50>"
      ]
     },
     "execution_count": 45,
     "metadata": {},
     "output_type": "execute_result"
    },
    {
     "data": {
      "image/png": "[encoded data removed]",
      "text/plain": [
       "<Figure size 1000x800 with 2 Axes>"
      ]
     },
     "metadata": {},
     "output_type": "display_data"
    }
   ],
   "source": [
    "from nilearn.connectome import ConnectivityMeasure\n",
    "\n",
    "correlation_measure = ConnectivityMeasure(\n",
    "    kind=\"correlation\",\n",
    "    standardize=\"zscore_sample\",\n",
    ")\n",
    "correlation_matrix = correlation_measure.fit_transform([time_series])[0]\n",
    "\n",
    "# Plot the correlation matrix\n",
    "import numpy as np\n",
    "\n",
    "from nilearn import plotting\n",
    "\n",
    "# Make a large figure\n",
    "# Mask the main diagonal for visualization:\n",
    "np.fill_diagonal(correlation_matrix, 0)\n",
    "# The labels we have start with the background (0), hence we skip the\n",
    "# first label\n",
    "# matrices are ordered for block-like representation\n",
    "plotting.plot_matrix(\n",
    "    correlation_matrix,\n",
    "    figure=(10, 8),\n",
    "    vmax=0.8,\n",
    "    vmin=-0.8,\n",
    "    title=\"Confounds\",\n",
    ")"
   ]
  },
  {
   "cell_type": "code",
   "execution_count": 49,
   "metadata": {},
   "outputs": [
    {
     "data": {
      "text/plain": [
       "(47, 47)"
      ]
     },
     "execution_count": 49,
     "metadata": {},
     "output_type": "execute_result"
    }
   ],
   "source": [
    "correlation_matrix.shape"
   ]
  },
  {
   "cell_type": "code",
   "execution_count": null,
   "metadata": {},
   "outputs": [],
   "source": []
  }
 ],
 "metadata": {
  "kernelspec": {
   "display_name": "cns",
   "language": "python",
   "name": "python3"
  },
  "language_info": {
   "codemirror_mode": {
    "name": "ipython",
    "version": 3
   },
   "file_extension": ".py",
   "mimetype": "text/x-python",
   "name": "python",
   "nbconvert_exporter": "python",
   "pygments_lexer": "ipython3",
   "version": "3.11.5"
  },
  "orig_nbformat": 4
 },
 "nbformat": 4,
 "nbformat_minor": 2
}
