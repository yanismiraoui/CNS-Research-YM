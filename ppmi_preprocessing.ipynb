{
 "cells": [
  {
   "cell_type": "code",
   "execution_count": 1,
   "metadata": {},
   "outputs": [],
   "source": [
    "import numpy as np\n",
    "import pandas as pd\n",
    "import nilearn"
   ]
  },
  {
   "cell_type": "code",
   "execution_count": null,
   "metadata": {},
   "outputs": [],
   "source": [
    "from nilearn import datasets\n",
    "\n",
    "dataset = datasets.fetch_atlas_harvard_oxford('cort-maxprob-thr0-1mm', data_dir=None, url=None, resume=True, verbose=1)"
   ]
  },
  {
   "cell_type": "code",
   "execution_count": 3,
   "metadata": {},
   "outputs": [
    {
     "name": "stdout",
     "output_type": "stream",
     "text": [
      "\n",
      "Dataset created in /Users/yanis/nilearn_data/fsl\n",
      "\n",
      "Downloading data from https://www.nitrc.org/frs/download.php/9902/HarvardOxford.tgz ...\n"
     ]
    },
    {
     "name": "stderr",
     "output_type": "stream",
     "text": [
      "Downloaded 25346048 of 25716861 bytes (98.6%,    0.1s remaining) ...done. (4 seconds, 0 min)\n",
      "Extracting data from /Users/yanis/nilearn_data/fsl/c4d84bbdf5c3325f23e304cdea1e9706/HarvardOxford.tgz..."
     ]
    },
    {
     "name": "stdout",
     "output_type": "stream",
     "text": [
      "Atlas ROIs are located in nifti image (4D) at: \n",
      "<class 'nibabel.nifti1.Nifti1Image'>\n",
      "data shape (91, 109, 91)\n",
      "affine:\n",
      "[[   2.    0.    0.  -90.]\n",
      " [   0.    2.    0. -126.]\n",
      " [   0.    0.    2.  -72.]\n",
      " [   0.    0.    0.    1.]]\n",
      "metadata:\n",
      "<class 'nibabel.nifti1.Nifti1Header'> object, endian='<'\n",
      "sizeof_hdr      : 348\n",
      "data_type       : b''\n",
      "db_name         : b''\n",
      "extents         : 0\n",
      "session_error   : 0\n",
      "regular         : b''\n",
      "dim_info        : 0\n",
      "dim             : [  3  91 109  91   1   1   1   1]\n",
      "intent_p1       : 0.0\n",
      "intent_p2       : 0.0\n",
      "intent_p3       : 0.0\n",
      "intent_code     : none\n",
      "datatype        : uint8\n",
      "bitpix          : 8\n",
      "slice_start     : 0\n",
      "pixdim          : [1. 2. 2. 2. 1. 1. 1. 1.]\n",
      "vox_offset      : 0.0\n",
      "scl_slope       : nan\n",
      "scl_inter       : nan\n",
      "slice_end       : 0\n",
      "slice_code      : unknown\n",
      "xyzt_units      : 0\n",
      "cal_max         : 0.0\n",
      "cal_min         : 0.0\n",
      "slice_duration  : 0.0\n",
      "toffset         : 0.0\n",
      "glmax           : 0\n",
      "glmin           : 0\n",
      "descrip         : b''\n",
      "aux_file        : b''\n",
      "qform_code      : unknown\n",
      "sform_code      : aligned\n",
      "quatern_b       : 0.0\n",
      "quatern_c       : 0.0\n",
      "quatern_d       : 0.0\n",
      "qoffset_x       : -90.0\n",
      "qoffset_y       : -126.0\n",
      "qoffset_z       : -72.0\n",
      "srow_x          : [  2.   0.   0. -90.]\n",
      "srow_y          : [   0.    2.    0. -126.]\n",
      "srow_z          : [  0.   0.   2. -72.]\n",
      "intent_name     : b''\n",
      "magic           : b'n+1'\n",
      "\n"
     ]
    },
    {
     "name": "stderr",
     "output_type": "stream",
     "text": [
      ".. done.\n"
     ]
    }
   ],
   "source": [
    "from nilearn import datasets\n",
    "\n",
    "dataset = datasets.fetch_atlas_harvard_oxford(\"cort-maxprob-thr25-2mm\")\n",
    "atlas_filename = dataset.maps\n",
    "labels = dataset.labels\n",
    "\n",
    "print(f\"Atlas ROIs are located in nifti image (4D) at: {atlas_filename}\")"
   ]
  },
  {
   "cell_type": "code",
   "execution_count": 5,
   "metadata": {},
   "outputs": [
    {
     "name": "stdout",
     "output_type": "stream",
     "text": [
      "\n",
      "Dataset created in /Users/yanis/nilearn_data/development_fmri\n",
      "\n",
      "\n",
      "Dataset created in /Users/yanis/nilearn_data/development_fmri/development_fmri\n",
      "\n",
      "Downloading data from https://osf.io/yr3av/download ...\n"
     ]
    },
    {
     "name": "stderr",
     "output_type": "stream",
     "text": [
      " ...done. (2 seconds, 0 min)\n"
     ]
    },
    {
     "name": "stdout",
     "output_type": "stream",
     "text": [
      "Downloading data from https://osf.io/download/5c8ff3df4712b400183b7092/ ...\n"
     ]
    },
    {
     "name": "stderr",
     "output_type": "stream",
     "text": [
      " ...done. (1 seconds, 0 min)\n"
     ]
    },
    {
     "name": "stdout",
     "output_type": "stream",
     "text": [
      "Downloading data from https://osf.io/download/5c8ff3e04712b400193b5bdf/ ...\n"
     ]
    },
    {
     "name": "stderr",
     "output_type": "stream",
     "text": [
      " ...done. (2 seconds, 0 min)\n"
     ]
    }
   ],
   "source": [
    "# One subject of brain development fmri data\n",
    "data = datasets.fetch_development_fmri(n_subjects=1, reduce_confounds=True)\n",
    "fmri_filenames = data.func[0]\n",
    "reduced_confounds = data.confounds[0]  # This is a preselected set of confounds"
   ]
  },
  {
   "cell_type": "code",
   "execution_count": 9,
   "metadata": {},
   "outputs": [],
   "source": [
    "# load .dcm files for nilearn\n",
    "import pydicom as dicom\n",
    "\n",
    "image_path = 'RAW_PPMI/3102/ep2d_RESTING_STATE/2013-02-06_10_38_32.0/I378209/PPMI_3102_MR_ep2d_RESTING_STATE_br_raw_20130626124735840_52_S193424_I378209.dcm'\n",
    "ds = dicom.dcmread(image_path)\n"
   ]
  },
  {
   "cell_type": "code",
   "execution_count": 10,
   "metadata": {},
   "outputs": [
    {
     "name": "stderr",
     "output_type": "stream",
     "text": [
      "/opt/anaconda3/envs/cns/lib/python3.11/site-packages/pydicom/valuerep.py:443: UserWarning: Invalid value for VR UI: '2.16.124.113543.6006.99.08756382483670613139'. Please see <https://dicom.nema.org/medical/dicom/current/output/html/part05.html#table_6.2-1> for allowed values for each VR.\n",
      "  warnings.warn(msg)\n",
      "/opt/anaconda3/envs/cns/lib/python3.11/site-packages/pydicom/valuerep.py:443: UserWarning: Invalid value for VR UI: '2.16.124.113543.6006.99.07224132535123976046'. Please see <https://dicom.nema.org/medical/dicom/current/output/html/part05.html#table_6.2-1> for allowed values for each VR.\n",
      "  warnings.warn(msg)\n",
      "/opt/anaconda3/envs/cns/lib/python3.11/site-packages/pydicom/valuerep.py:443: UserWarning: Invalid value for VR UI: '2.16.124.113543.6006.99.02074544901092802719'. Please see <https://dicom.nema.org/medical/dicom/current/output/html/part05.html#table_6.2-1> for allowed values for each VR.\n",
      "  warnings.warn(msg)\n",
      "/opt/anaconda3/envs/cns/lib/python3.11/site-packages/pydicom/valuerep.py:443: UserWarning: Invalid value for VR UI: '2.16.124.113543.6006.99.09046561148129090722'. Please see <https://dicom.nema.org/medical/dicom/current/output/html/part05.html#table_6.2-1> for allowed values for each VR.\n",
      "  warnings.warn(msg)\n",
      "/opt/anaconda3/envs/cns/lib/python3.11/site-packages/pydicom/valuerep.py:443: UserWarning: Invalid value for VR UI: '2.16.124.113543.6006.99.04529808191288135852'. Please see <https://dicom.nema.org/medical/dicom/current/output/html/part05.html#table_6.2-1> for allowed values for each VR.\n",
      "  warnings.warn(msg)\n",
      "/opt/anaconda3/envs/cns/lib/python3.11/site-packages/pydicom/valuerep.py:443: UserWarning: Invalid value for VR UI: '2.16.124.113543.6006.99.04681971561795168710'. Please see <https://dicom.nema.org/medical/dicom/current/output/html/part05.html#table_6.2-1> for allowed values for each VR.\n",
      "  warnings.warn(msg)\n"
     ]
    },
    {
     "data": {
      "text/plain": [
       "Dataset.file_meta -------------------------------\n",
       "(0002, 0000) File Meta Information Group Length  UL: 180\n",
       "(0002, 0001) File Meta Information Version       OB: b'\\x00\\x01'\n",
       "(0002, 0002) Media Storage SOP Class UID         UI: MR Image Storage\n",
       "(0002, 0003) Media Storage SOP Instance UID      UI: 2.16.124.113543.6006.99.08756382483670613139\n",
       "(0002, 0010) Transfer Syntax UID                 UI: Explicit VR Little Endian\n",
       "(0002, 0012) Implementation Class UID            UI: 2.16.124.113543.6006.99.6660875488184604810\n",
       "-------------------------------------------------\n",
       "(0008, 0000) Group Length                        UL: 854\n",
       "(0008, 0005) Specific Character Set              CS: 'ISO_IR 100'\n",
       "(0008, 0008) Image Type                          CS: ['ORIGINAL', 'PRIMARY', 'M', 'ND', 'NORM', 'MOSAIC']\n",
       "(0008, 0013) Instance Creation Time              TM: '112055.484000'\n",
       "(0008, 0016) SOP Class UID                       UI: MR Image Storage\n",
       "(0008, 0018) SOP Instance UID                    UI: 2.16.124.113543.6006.99.08756382483670613139\n",
       "(0008, 0020) Study Date                          DA: '20130206'\n",
       "(0008, 0021) Series Date                         DA: '20130206'\n",
       "(0008, 0022) Acquisition Date                    DA: '20130206'\n",
       "(0008, 0023) Content Date                        DA: '20130206'\n",
       "(0008, 0030) Study Time                          TM: '103832.250000'\n",
       "(0008, 0031) Series Time                         TM: '111852.984000'\n",
       "(0008, 0032) Acquisition Time                    TM: '112052.337500'\n",
       "(0008, 0033) Content Time                        TM: '112055.484000'\n",
       "(0008, 0060) Modality                            CS: 'MR'\n",
       "(0008, 0070) Manufacturer                        LO: 'SIEMENS'\n",
       "(0008, 0080) Institution Name                    LO: 'Baylor College of Medicine'\n",
       "(0008, 0090) Referring Physician's Name          PN: ''\n",
       "(0008, 1030) Study Description                   LO: 'PPMI PD STUDY VB17A V4 +RESTING (Current)^PD GATING'\n",
       "(0008, 103e) Series Description                  LO: 'ep2d_RESTING_STATE'\n",
       "(0008, 1060) Name of Physician(s) Reading Study  PN: ''\n",
       "(0008, 1070) Operators' Name                     PN: ''\n",
       "(0008, 1090) Manufacturer's Model Name           LO: 'TrioTim'\n",
       "(0008, 1140)  Referenced Image Sequence  3 item(s) ---- \n",
       "   (0008, 1150) Referenced SOP Class UID            UI: 2.16.124.113543.6006.99.4332567756067262732\n",
       "   (0008, 1155) Referenced SOP Instance UID         UI: 2.16.124.113543.6006.99.8886678439685191107\n",
       "   ---------\n",
       "   (0008, 1150) Referenced SOP Class UID            UI: 2.16.124.113543.6006.99.4332567756067262732\n",
       "   (0008, 1155) Referenced SOP Instance UID         UI: 2.16.124.113543.6006.99.07224132535123976046\n",
       "   ---------\n",
       "   (0008, 1150) Referenced SOP Class UID            UI: 2.16.124.113543.6006.99.4332567756067262732\n",
       "   (0008, 1155) Referenced SOP Instance UID         UI: 2.16.124.113543.6006.99.02074544901092802719\n",
       "   ---------\n",
       "(0010, 0000) Group Length                        UL: 78\n",
       "(0010, 0010) Patient's Name                      PN: 'DE-IDENTIFIED'\n",
       "(0010, 0020) Patient ID                          LO: '3102'\n",
       "(0010, 0040) Patient's Sex                       CS: 'M'\n",
       "(0010, 1010) Patient's Age                       AS: '065Y'\n",
       "(0010, 1030) Patient's Weight                    DS: '96.6151871001'\n",
       "(0018, 0000) Group Length                        UL: 442\n",
       "(0018, 0020) Scanning Sequence                   CS: 'EP'\n",
       "(0018, 0021) Sequence Variant                    CS: ['SK', 'OSP']\n",
       "(0018, 0022) Scan Options                        CS: 'FS'\n",
       "(0018, 0023) MR Acquisition Type                 CS: '2D'\n",
       "(0018, 0024) Sequence Name                       SH: '*epfid2d1_66'\n",
       "(0018, 0025) Angio Flag                          CS: 'N'\n",
       "(0018, 0050) Slice Thickness                     DS: '3.2999999523163'\n",
       "(0018, 0080) Repetition Time                     DS: '2400.0'\n",
       "(0018, 0081) Echo Time                           DS: '25.0'\n",
       "(0018, 0083) Number of Averages                  DS: '1.0'\n",
       "(0018, 0084) Imaging Frequency                   DS: '123.25769'\n",
       "(0018, 0085) Imaged Nucleus                      SH: '1H'\n",
       "(0018, 0086) Echo Number(s)                      IS: '1'\n",
       "(0018, 0087) Magnetic Field Strength             DS: '3.0'\n",
       "(0018, 0088) Spacing Between Slices              DS: '3.3000000195626'\n",
       "(0018, 0089) Number of Phase Encoding Steps      IS: '66'\n",
       "(0018, 0091) Echo Train Length                   IS: '1'\n",
       "(0018, 0093) Percent Sampling                    DS: '100.0'\n",
       "(0018, 0094) Percent Phase Field of View         DS: '97.058823660714'\n",
       "(0018, 0095) Pixel Bandwidth                     DS: '2535.0'\n",
       "(0018, 1000) Device Serial Number                LO: '4RYQhNAwMfVs'\n",
       "(0018, 1020) Software Versions                   LO: 'syngo MR B17'\n",
       "(0018, 1030) Protocol Name                       LO: 'ep2d_RESTING_STATE'\n",
       "(0018, 1251) Transmit Coil Name                  SH: 'Body'\n",
       "(0018, 1310) Acquisition Matrix                  US: [68, 0, 0, 66]\n",
       "(0018, 1312) In-plane Phase Encoding Direction   CS: 'COL'\n",
       "(0018, 1314) Flip Angle                          DS: '80.0'\n",
       "(0018, 1315) Variable Flip Angle Flag            CS: 'N'\n",
       "(0018, 1316) SAR                                 DS: '0.15561768784079'\n",
       "(0018, 1318) dB/dt                               DS: '0.0'\n",
       "(0018, 5100) Patient Position                    CS: 'HFS'\n",
       "(0019, 0000) Private Creator                     UL: 534\n",
       "(0019, 0010) Private tag data                    LO: 'SIEMENS MR HEADER'\n",
       "(0019, 1008) [CSA Image Header Type]             CS: 'IMAGE NUM 4'\n",
       "(0019, 100a) [NumberOfImagesInMosaic]            US: 40\n",
       "(0019, 100b) [SliceMeasurementDuration]          DS: '30.0'\n",
       "(0019, 1012) [TablePositionOrigin]               SL: [0, 0, -1218]\n",
       "(0019, 1013) [ImaAbsTablePosition]               SL: [0, 0, -1218]\n",
       "(0019, 1014) [ImaRelTablePosition]               IS: [0, 0, 0]\n",
       "(0019, 1015) [SlicePosition_PCS]                 FD: [-779.27711821, -786.57974172, -79.86807251]\n",
       "(0019, 1016) [TimeAfterStart]                    DS: '122.8925'\n",
       "(0019, 1017) [SliceResolution]                   DS: '1.0'\n",
       "(0019, 1018) [RealDwellTime]                     IS: '2900'\n",
       "(0019, 1028) [BandwidthPerPixelPhaseEncode]      FD: 32.938\n",
       "(0019, 1029) [MosaicRefAcqTimes]                 FD: Array of 40 elements\n",
       "(0020, 0000) Group Length                        UL: 306\n",
       "(0020, 000d) Study Instance UID                  UI: 2.16.124.113543.6006.99.09046561148129090722\n",
       "(0020, 000e) Series Instance UID                 UI: 2.16.124.113543.6006.99.04529808191288135852\n",
       "(0020, 0010) Study ID                            SH: '1'\n",
       "(0020, 0011) Series Number                       IS: '10'\n",
       "(0020, 0012) Acquisition Number                  IS: '52'\n",
       "(0020, 0013) Instance Number                     IS: '52'\n",
       "(0020, 0032) Image Position (Patient)            DS: [-779.27711820602, -786.57974171638, -79.868072509766]\n",
       "(0020, 0037) Image Orientation (Patient)         DS: [1, 0, 0, 0, 1, 0]\n",
       "(0020, 0052) Frame of Reference UID              UI: 2.16.124.113543.6006.99.7310229803328505854\n",
       "(0020, 1040) Position Reference Indicator        LO: ''\n",
       "(0020, 1041) Slice Location                      DS: '-79.868072509766'\n",
       "(0028, 0000) Group Length                        UL: 174\n",
       "(0028, 0002) Samples per Pixel                   US: 1\n",
       "(0028, 0004) Photometric Interpretation          CS: 'MONOCHROME2'\n",
       "(0028, 0010) Rows                                US: 462\n",
       "(0028, 0011) Columns                             US: 476\n",
       "(0028, 0030) Pixel Spacing                       DS: [3.2941176891327, 3.2941176891327]\n",
       "(0028, 0100) Bits Allocated                      US: 16\n",
       "(0028, 0101) Bits Stored                         US: 12\n",
       "(0028, 0102) High Bit                            US: 11\n",
       "(0028, 0103) Pixel Representation                US: 0\n",
       "(0028, 0106) Smallest Image Pixel Value          US: 0\n",
       "(0028, 0107) Largest Image Pixel Value           US: 1763\n",
       "(0028, 1050) Window Center                       DS: '581.0'\n",
       "(0028, 1051) Window Width                        DS: '1219.0'\n",
       "(0029, 0000) Private Creator                     UL: 87206\n",
       "(0029, 1008) Private tag data                    CS: 'IMAGE NUM 4'\n",
       "(0029, 1010) Private tag data                    OB: Array of 11012 elements\n",
       "(0029, 1018) Private tag data                    CS: 'MR'\n",
       "(0029, 1020) Private tag data                    OB: Array of 76140 elements\n",
       "(0040, 0000) Group Length                        UL: 22\n",
       "(0040, 0245) Performed Procedure Step Start Time TM: '103832.281000'\n",
       "(0051, 0000) Private Creator                     UL: 44\n",
       "(0051, 1008) Private tag data                    CS: 'IMAGE NUM 4'\n",
       "(0051, 1016) Private tag data                    LO: 'M/ND/NORM/MOSAIC'\n",
       "(0088, 0000) Group Length                        UL: 206\n",
       "(0088, 0140) Storage Media File-set UID          UI: 2.16.124.113543.6006.99.04681971561795168710\n",
       "(0088, 0200)  Icon Image Sequence  1 item(s) ---- \n",
       "   (0028, 0002) Samples per Pixel                   US: 1\n",
       "   (0028, 0004) Photometric Interpretation          CS: 'PALETTE COLOR'\n",
       "   (0028, 0010) Rows                                US: 64\n",
       "   (0028, 0011) Columns                             US: 64\n",
       "   (0028, 0100) Bits Allocated                      US: 8\n",
       "   (0028, 0101) Bits Stored                         US: 8\n",
       "   (0028, 0102) High Bit                            US: 7\n",
       "   (0028, 0103) Pixel Representation                US: 0\n",
       "   (0028, 1101) Red Palette Color Lookup Table Desc US: [256, 0, 8]\n",
       "   (0028, 1102) Green Palette Color Lookup Table De US: [256, 0, 8]\n",
       "   (0028, 1103) Blue Palette Color Lookup Table Des US: [256, 0, 8]\n",
       "   ---------\n",
       "(7fe0, 0010) Pixel Data                          OW: Array of 439824 elements"
      ]
     },
     "execution_count": 10,
     "metadata": {},
     "output_type": "execute_result"
    }
   ],
   "source": [
    "ds"
   ]
  },
  {
   "cell_type": "code",
   "execution_count": 4,
   "metadata": {},
   "outputs": [],
   "source": [
    "from nilearn.maskers import NiftiLabelsMasker\n",
    "\n",
    "masker = NiftiLabelsMasker(\n",
    "    labels_img=atlas_filename,\n",
    "    standardize=\"zscore_sample\",\n",
    "    standardize_confounds=\"zscore_sample\",\n",
    "    memory=\"nilearn_cache\",\n",
    "    verbose=5,\n",
    ")"
   ]
  },
  {
   "cell_type": "code",
   "execution_count": null,
   "metadata": {},
   "outputs": [],
   "source": [
    "time_series = masker.fit_transform(fmri_filenames, confounds=reduced_confounds)"
   ]
  },
  {
   "cell_type": "code",
   "execution_count": null,
   "metadata": {},
   "outputs": [],
   "source": [
    "from nilearn.connectome import ConnectivityMeasure\n",
    "\n",
    "correlation_measure = ConnectivityMeasure(\n",
    "    kind=\"correlation\",\n",
    "    standardize=\"zscore_sample\",\n",
    ")\n",
    "correlation_matrix = correlation_measure.fit_transform([time_series])[0]\n",
    "\n",
    "# Plot the correlation matrix\n",
    "import numpy as np\n",
    "\n",
    "from nilearn import plotting\n",
    "\n",
    "# Make a large figure\n",
    "# Mask the main diagonal for visualization:\n",
    "np.fill_diagonal(correlation_matrix, 0)\n",
    "# The labels we have start with the background (0), hence we skip the\n",
    "# first label\n",
    "# matrices are ordered for block-like representation\n",
    "plotting.plot_matrix(\n",
    "    correlation_matrix,\n",
    "    figure=(10, 8),\n",
    "    labels=labels[1:],\n",
    "    vmax=0.8,\n",
    "    vmin=-0.8,\n",
    "    title=\"Confounds\",\n",
    "    reorder=True,\n",
    ")"
   ]
  }
 ],
 "metadata": {
  "kernelspec": {
   "display_name": "cns",
   "language": "python",
   "name": "python3"
  },
  "language_info": {
   "codemirror_mode": {
    "name": "ipython",
    "version": 3
   },
   "file_extension": ".py",
   "mimetype": "text/x-python",
   "name": "python",
   "nbconvert_exporter": "python",
   "pygments_lexer": "ipython3",
   "version": "3.11.5"
  },
  "orig_nbformat": 4
 },
 "nbformat": 4,
 "nbformat_minor": 2
}
